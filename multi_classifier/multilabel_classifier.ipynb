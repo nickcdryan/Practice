{
 "cells": [
  {
   "cell_type": "code",
   "execution_count": 1,
   "metadata": {
    "collapsed": false
   },
   "outputs": [],
   "source": [
    "import pandas as pd\n",
    "import numpy as np\n",
    "from sklearn.preprocessing import MultiLabelBinarizer\n",
    "from sklearn.model_selection import train_test_split\n",
    "from sklearn.multiclass import OneVsRestClassifier\n",
    "from sklearn.metrics import f1_score"
   ]
  },
  {
   "cell_type": "markdown",
   "metadata": {},
   "source": [
    "In this dataset there is: 8835 record 2763 different input keyword 657 different output classes"
   ]
  },
  {
   "cell_type": "code",
   "execution_count": 2,
   "metadata": {
    "collapsed": false
   },
   "outputs": [
    {
     "data": {
      "text/html": [
       "<div>\n",
       "<table border=\"1\" class=\"dataframe\">\n",
       "  <thead>\n",
       "    <tr style=\"text-align: right;\">\n",
       "      <th></th>\n",
       "      <th>Keywords</th>\n",
       "      <th>Classification</th>\n",
       "    </tr>\n",
       "  </thead>\n",
       "  <tbody>\n",
       "    <tr>\n",
       "      <th>0</th>\n",
       "      <td>Classification systems,Health law,Health care,...</td>\n",
       "      <td>Life and medical sciences</td>\n",
       "    </tr>\n",
       "    <tr>\n",
       "      <th>1</th>\n",
       "      <td>Information retrieval systems,Web software,Alg...</td>\n",
       "      <td>World Wide Web</td>\n",
       "    </tr>\n",
       "    <tr>\n",
       "      <th>2</th>\n",
       "      <td>American culture,Social information processing...</td>\n",
       "      <td>Information systems applications;Information r...</td>\n",
       "    </tr>\n",
       "    <tr>\n",
       "      <th>3</th>\n",
       "      <td>Data management,Software,Types of databases,Da...</td>\n",
       "      <td>Data management systems;Theory and algorithms ...</td>\n",
       "    </tr>\n",
       "    <tr>\n",
       "      <th>4</th>\n",
       "      <td>Business terms,Temporal rates,Scientific metho...</td>\n",
       "      <td>Information systems applications</td>\n",
       "    </tr>\n",
       "  </tbody>\n",
       "</table>\n",
       "</div>"
      ],
      "text/plain": [
       "                                            Keywords  \\\n",
       "0  Classification systems,Health law,Health care,...   \n",
       "1  Information retrieval systems,Web software,Alg...   \n",
       "2  American culture,Social information processing...   \n",
       "3  Data management,Software,Types of databases,Da...   \n",
       "4  Business terms,Temporal rates,Scientific metho...   \n",
       "\n",
       "                                      Classification  \n",
       "0                          Life and medical sciences  \n",
       "1                                     World Wide Web  \n",
       "2  Information systems applications;Information r...  \n",
       "3  Data management systems;Theory and algorithms ...  \n",
       "4                   Information systems applications  "
      ]
     },
     "execution_count": 2,
     "metadata": {},
     "output_type": "execute_result"
    }
   ],
   "source": [
    "data = pd.read_csv('Complete_Dataset_2_FL-csv.csv', sep=\",\")\n",
    "data.head()"
   ]
  },
  {
   "cell_type": "code",
   "execution_count": 3,
   "metadata": {
    "collapsed": false
   },
   "outputs": [
    {
     "data": {
      "text/plain": [
       "7655"
      ]
     },
     "execution_count": 3,
     "metadata": {},
     "output_type": "execute_result"
    }
   ],
   "source": [
    "len(data)"
   ]
  },
  {
   "cell_type": "code",
   "execution_count": 4,
   "metadata": {
    "collapsed": false
   },
   "outputs": [
    {
     "data": {
      "text/plain": [
       "Keywords           True\n",
       "Classification    False\n",
       "dtype: bool"
      ]
     },
     "execution_count": 4,
     "metadata": {},
     "output_type": "execute_result"
    }
   ],
   "source": [
    "# null values?\n",
    "data.isnull().any()"
   ]
  },
  {
   "cell_type": "code",
   "execution_count": 5,
   "metadata": {
    "collapsed": false
   },
   "outputs": [
    {
     "data": {
      "text/plain": [
       "35"
      ]
     },
     "execution_count": 5,
     "metadata": {},
     "output_type": "execute_result"
    }
   ],
   "source": [
    "data.Keywords.isnull().sum()"
   ]
  },
  {
   "cell_type": "code",
   "execution_count": 6,
   "metadata": {
    "collapsed": false,
    "scrolled": true
   },
   "outputs": [
    {
     "name": "stdout",
     "output_type": "stream",
     "text": [
      "40\n",
      "82\n"
     ]
    }
   ],
   "source": [
    "# a null example:\n",
    "for i in range(100):\n",
    "    if type(data.Keywords[i]) == float:\n",
    "        print i"
   ]
  },
  {
   "cell_type": "code",
   "execution_count": 7,
   "metadata": {
    "collapsed": false
   },
   "outputs": [
    {
     "data": {
      "text/html": [
       "<div>\n",
       "<table border=\"1\" class=\"dataframe\">\n",
       "  <thead>\n",
       "    <tr style=\"text-align: right;\">\n",
       "      <th></th>\n",
       "      <th>Keywords</th>\n",
       "      <th>Classification</th>\n",
       "    </tr>\n",
       "  </thead>\n",
       "  <tbody>\n",
       "    <tr>\n",
       "      <th>39</th>\n",
       "      <td>Information retrieval systems,Web software,Alg...</td>\n",
       "      <td>Information retrieval</td>\n",
       "    </tr>\n",
       "    <tr>\n",
       "      <th>40</th>\n",
       "      <td>NaN</td>\n",
       "      <td>Information retrieval</td>\n",
       "    </tr>\n",
       "    <tr>\n",
       "      <th>41</th>\n",
       "      <td>Data management,Software,Databases,Measurement...</td>\n",
       "      <td>Data management systems;Theory and algorithms ...</td>\n",
       "    </tr>\n",
       "  </tbody>\n",
       "</table>\n",
       "</div>"
      ],
      "text/plain": [
       "                                             Keywords  \\\n",
       "39  Information retrieval systems,Web software,Alg...   \n",
       "40                                                NaN   \n",
       "41  Data management,Software,Databases,Measurement...   \n",
       "\n",
       "                                       Classification  \n",
       "39                              Information retrieval  \n",
       "40                              Information retrieval  \n",
       "41  Data management systems;Theory and algorithms ...  "
      ]
     },
     "execution_count": 7,
     "metadata": {},
     "output_type": "execute_result"
    }
   ],
   "source": [
    "data[39:42]"
   ]
  },
  {
   "cell_type": "code",
   "execution_count": 8,
   "metadata": {
    "collapsed": false
   },
   "outputs": [
    {
     "data": {
      "text/plain": [
       "7620"
      ]
     },
     "execution_count": 8,
     "metadata": {},
     "output_type": "execute_result"
    }
   ],
   "source": [
    "# drop null rows\n",
    "data = data.dropna()\n",
    "len(data)"
   ]
  },
  {
   "cell_type": "code",
   "execution_count": 82,
   "metadata": {
    "collapsed": false
   },
   "outputs": [
    {
     "data": {
      "text/plain": [
       "3411"
      ]
     },
     "execution_count": 82,
     "metadata": {},
     "output_type": "execute_result"
    }
   ],
   "source": [
    "# how many distinct combinations of labels?\n",
    "len(data.Classification.value_counts())"
   ]
  },
  {
   "cell_type": "code",
   "execution_count": 85,
   "metadata": {
    "collapsed": false
   },
   "outputs": [
    {
     "data": {
      "text/plain": [
       "2912"
      ]
     },
     "execution_count": 85,
     "metadata": {},
     "output_type": "execute_result"
    }
   ],
   "source": [
    "# how many of those combinations appear only once?\n",
    "sum(data.Classification.value_counts() == 1)"
   ]
  },
  {
   "cell_type": "code",
   "execution_count": 10,
   "metadata": {
    "collapsed": false
   },
   "outputs": [],
   "source": [
    "# split keywords and labels\n",
    "X = data.Keywords\n",
    "X = X.apply(lambda x: x.split(','))\n",
    "y = data.Classification\n",
    "y = y.apply(lambda x: x.split(';'))"
   ]
  },
  {
   "cell_type": "code",
   "execution_count": 11,
   "metadata": {
    "collapsed": false
   },
   "outputs": [
    {
     "data": {
      "text/plain": [
       "0    [Classification systems, Health law, Health ca...\n",
       "1    [Information retrieval systems, Web software, ...\n",
       "2    [American culture, Social information processi...\n",
       "3    [Data management, Software, Types of databases...\n",
       "4    [Business terms, Temporal rates, Scientific me...\n",
       "Name: Keywords, dtype: object"
      ]
     },
     "execution_count": 11,
     "metadata": {},
     "output_type": "execute_result"
    }
   ],
   "source": [
    "X.head()"
   ]
  },
  {
   "cell_type": "code",
   "execution_count": 12,
   "metadata": {
    "collapsed": true
   },
   "outputs": [],
   "source": [
    "# convert keywords and labels into matrices of binary values\n",
    "X_binarize = MultiLabelBinarizer().fit_transform(X)\n",
    "y_binarize = MultiLabelBinarizer().fit_transform(y)"
   ]
  },
  {
   "cell_type": "code",
   "execution_count": 87,
   "metadata": {
    "collapsed": false
   },
   "outputs": [
    {
     "data": {
      "text/plain": [
       "array([[1, 0, 0, ..., 0, 0, 0],\n",
       "       [1, 0, 0, ..., 0, 0, 0],\n",
       "       [1, 0, 0, ..., 0, 0, 0],\n",
       "       ..., \n",
       "       [1, 0, 0, ..., 0, 0, 0],\n",
       "       [1, 0, 0, ..., 0, 0, 0],\n",
       "       [1, 0, 0, ..., 0, 0, 0]])"
      ]
     },
     "execution_count": 87,
     "metadata": {},
     "output_type": "execute_result"
    }
   ],
   "source": [
    "X_binarize"
   ]
  },
  {
   "cell_type": "code",
   "execution_count": 13,
   "metadata": {
    "collapsed": false
   },
   "outputs": [
    {
     "name": "stdout",
     "output_type": "stream",
     "text": [
      "(7620, 2641)\n",
      "(7620, 541)\n"
     ]
    }
   ],
   "source": [
    "print X_binarize.shape\n",
    "print y_binarize.shape"
   ]
  },
  {
   "cell_type": "code",
   "execution_count": 14,
   "metadata": {
    "collapsed": true
   },
   "outputs": [],
   "source": [
    "# test and training split\n",
    "X_train, X_test, y_train, y_test = train_test_split(X_binarize, y_binarize, test_size=0.25, random_state=42)"
   ]
  },
  {
   "cell_type": "code",
   "execution_count": 17,
   "metadata": {
    "collapsed": false
   },
   "outputs": [
    {
     "name": "stderr",
     "output_type": "stream",
     "text": [
      "/Users/nickryan/anaconda/lib/python2.7/site-packages/sklearn/multiclass.py:76: UserWarning: Label not 5 is present in all training examples.\n",
      "  str(classes[c]))\n",
      "/Users/nickryan/anaconda/lib/python2.7/site-packages/sklearn/multiclass.py:76: UserWarning: Label not 26 is present in all training examples.\n",
      "  str(classes[c]))\n",
      "/Users/nickryan/anaconda/lib/python2.7/site-packages/sklearn/multiclass.py:76: UserWarning: Label not 44 is present in all training examples.\n",
      "  str(classes[c]))\n",
      "/Users/nickryan/anaconda/lib/python2.7/site-packages/sklearn/multiclass.py:76: UserWarning: Label not 47 is present in all training examples.\n",
      "  str(classes[c]))\n",
      "/Users/nickryan/anaconda/lib/python2.7/site-packages/sklearn/multiclass.py:76: UserWarning: Label not 50 is present in all training examples.\n",
      "  str(classes[c]))\n",
      "/Users/nickryan/anaconda/lib/python2.7/site-packages/sklearn/multiclass.py:76: UserWarning: Label not 67 is present in all training examples.\n",
      "  str(classes[c]))\n",
      "/Users/nickryan/anaconda/lib/python2.7/site-packages/sklearn/multiclass.py:76: UserWarning: Label not 76 is present in all training examples.\n",
      "  str(classes[c]))\n",
      "/Users/nickryan/anaconda/lib/python2.7/site-packages/sklearn/multiclass.py:76: UserWarning: Label not 83 is present in all training examples.\n",
      "  str(classes[c]))\n",
      "/Users/nickryan/anaconda/lib/python2.7/site-packages/sklearn/multiclass.py:76: UserWarning: Label not 113 is present in all training examples.\n",
      "  str(classes[c]))\n",
      "/Users/nickryan/anaconda/lib/python2.7/site-packages/sklearn/multiclass.py:76: UserWarning: Label not 120 is present in all training examples.\n",
      "  str(classes[c]))\n",
      "/Users/nickryan/anaconda/lib/python2.7/site-packages/sklearn/multiclass.py:76: UserWarning: Label not 124 is present in all training examples.\n",
      "  str(classes[c]))\n",
      "/Users/nickryan/anaconda/lib/python2.7/site-packages/sklearn/multiclass.py:76: UserWarning: Label not 138 is present in all training examples.\n",
      "  str(classes[c]))\n",
      "/Users/nickryan/anaconda/lib/python2.7/site-packages/sklearn/multiclass.py:76: UserWarning: Label not 161 is present in all training examples.\n",
      "  str(classes[c]))\n",
      "/Users/nickryan/anaconda/lib/python2.7/site-packages/sklearn/multiclass.py:76: UserWarning: Label not 165 is present in all training examples.\n",
      "  str(classes[c]))\n",
      "/Users/nickryan/anaconda/lib/python2.7/site-packages/sklearn/multiclass.py:76: UserWarning: Label not 195 is present in all training examples.\n",
      "  str(classes[c]))\n",
      "/Users/nickryan/anaconda/lib/python2.7/site-packages/sklearn/multiclass.py:76: UserWarning: Label not 211 is present in all training examples.\n",
      "  str(classes[c]))\n",
      "/Users/nickryan/anaconda/lib/python2.7/site-packages/sklearn/multiclass.py:76: UserWarning: Label not 215 is present in all training examples.\n",
      "  str(classes[c]))\n",
      "/Users/nickryan/anaconda/lib/python2.7/site-packages/sklearn/multiclass.py:76: UserWarning: Label not 246 is present in all training examples.\n",
      "  str(classes[c]))\n",
      "/Users/nickryan/anaconda/lib/python2.7/site-packages/sklearn/multiclass.py:76: UserWarning: Label not 250 is present in all training examples.\n",
      "  str(classes[c]))\n",
      "/Users/nickryan/anaconda/lib/python2.7/site-packages/sklearn/multiclass.py:76: UserWarning: Label not 258 is present in all training examples.\n",
      "  str(classes[c]))\n",
      "/Users/nickryan/anaconda/lib/python2.7/site-packages/sklearn/multiclass.py:76: UserWarning: Label not 266 is present in all training examples.\n",
      "  str(classes[c]))\n",
      "/Users/nickryan/anaconda/lib/python2.7/site-packages/sklearn/multiclass.py:76: UserWarning: Label not 267 is present in all training examples.\n",
      "  str(classes[c]))\n",
      "/Users/nickryan/anaconda/lib/python2.7/site-packages/sklearn/multiclass.py:76: UserWarning: Label not 282 is present in all training examples.\n",
      "  str(classes[c]))\n",
      "/Users/nickryan/anaconda/lib/python2.7/site-packages/sklearn/multiclass.py:76: UserWarning: Label not 309 is present in all training examples.\n",
      "  str(classes[c]))\n",
      "/Users/nickryan/anaconda/lib/python2.7/site-packages/sklearn/multiclass.py:76: UserWarning: Label not 328 is present in all training examples.\n",
      "  str(classes[c]))\n",
      "/Users/nickryan/anaconda/lib/python2.7/site-packages/sklearn/multiclass.py:76: UserWarning: Label not 369 is present in all training examples.\n",
      "  str(classes[c]))\n",
      "/Users/nickryan/anaconda/lib/python2.7/site-packages/sklearn/multiclass.py:76: UserWarning: Label not 389 is present in all training examples.\n",
      "  str(classes[c]))\n",
      "/Users/nickryan/anaconda/lib/python2.7/site-packages/sklearn/multiclass.py:76: UserWarning: Label not 396 is present in all training examples.\n",
      "  str(classes[c]))\n",
      "/Users/nickryan/anaconda/lib/python2.7/site-packages/sklearn/multiclass.py:76: UserWarning: Label not 398 is present in all training examples.\n",
      "  str(classes[c]))\n",
      "/Users/nickryan/anaconda/lib/python2.7/site-packages/sklearn/multiclass.py:76: UserWarning: Label not 409 is present in all training examples.\n",
      "  str(classes[c]))\n",
      "/Users/nickryan/anaconda/lib/python2.7/site-packages/sklearn/multiclass.py:76: UserWarning: Label not 427 is present in all training examples.\n",
      "  str(classes[c]))\n",
      "/Users/nickryan/anaconda/lib/python2.7/site-packages/sklearn/multiclass.py:76: UserWarning: Label not 469 is present in all training examples.\n",
      "  str(classes[c]))\n",
      "/Users/nickryan/anaconda/lib/python2.7/site-packages/sklearn/multiclass.py:76: UserWarning: Label not 477 is present in all training examples.\n",
      "  str(classes[c]))\n",
      "/Users/nickryan/anaconda/lib/python2.7/site-packages/sklearn/multiclass.py:76: UserWarning: Label not 484 is present in all training examples.\n",
      "  str(classes[c]))\n",
      "/Users/nickryan/anaconda/lib/python2.7/site-packages/sklearn/multiclass.py:76: UserWarning: Label not 491 is present in all training examples.\n",
      "  str(classes[c]))\n",
      "/Users/nickryan/anaconda/lib/python2.7/site-packages/sklearn/multiclass.py:76: UserWarning: Label not 493 is present in all training examples.\n",
      "  str(classes[c]))\n"
     ]
    },
    {
     "data": {
      "text/plain": [
       "0.083100673345376894"
      ]
     },
     "execution_count": 17,
     "metadata": {},
     "output_type": "execute_result"
    }
   ],
   "source": [
    "from sklearn.svm import LinearSVC\n",
    "svm = OneVsRestClassifier(LinearSVC())\n",
    "svm.fit(X_train, y_train)\n",
    "svm_pred = svm.predict(X_test)\n",
    "f1_score(y_test, svm_pred, average = 'micro')"
   ]
  },
  {
   "cell_type": "markdown",
   "metadata": {},
   "source": [
    "These warnings mean that on this split of the data, some of the prediction labels we are training to predict never actually occur in X_train and y_train, and this is going to be the case for (almost) any split on the data with any algorithm. The algorithm nevertheless still works"
   ]
  },
  {
   "cell_type": "code",
   "execution_count": 16,
   "metadata": {
    "collapsed": false
   },
   "outputs": [
    {
     "data": {
      "text/plain": [
       "0.083299798792756535"
      ]
     },
     "execution_count": 16,
     "metadata": {},
     "output_type": "execute_result"
    }
   ],
   "source": [
    "# knn\n",
    "from sklearn.neighbors import KNeighborsClassifier\n",
    "knn = KNeighborsClassifier()\n",
    "knn.fit(X_train, y_train)\n",
    "knn_pred = knn.predict(X_test)\n",
    "f1_score(y_test, knn_pred, average = 'micro')"
   ]
  },
  {
   "cell_type": "code",
   "execution_count": 18,
   "metadata": {
    "collapsed": false
   },
   "outputs": [
    {
     "data": {
      "text/plain": [
       "0.10830769230769231"
      ]
     },
     "execution_count": 18,
     "metadata": {},
     "output_type": "execute_result"
    }
   ],
   "source": [
    "# decision tree\n",
    "from sklearn.tree import DecisionTreeClassifier\n",
    "dt = DecisionTreeClassifier()\n",
    "dt.fit(X_train, y_train)\n",
    "dt_pred = dt.predict(X_test)\n",
    "f1_score(y_test, dt_pred, average = 'micro')"
   ]
  },
  {
   "cell_type": "code",
   "execution_count": 20,
   "metadata": {
    "collapsed": false
   },
   "outputs": [
    {
     "data": {
      "text/plain": [
       "0.055464256368118324"
      ]
     },
     "execution_count": 20,
     "metadata": {},
     "output_type": "execute_result"
    }
   ],
   "source": [
    "# random forest\n",
    "from sklearn.ensemble import RandomForestClassifier\n",
    "rf = RandomForestClassifier()\n",
    "rf.fit(X_train, y_train)\n",
    "rf_pred = rf.predict(X_test)\n",
    "f1_score(y_test, rf_pred, average = 'micro')"
   ]
  },
  {
   "cell_type": "code",
   "execution_count": 29,
   "metadata": {
    "collapsed": false
   },
   "outputs": [
    {
     "data": {
      "text/plain": [
       "0.051962616822429905"
      ]
     },
     "execution_count": 29,
     "metadata": {},
     "output_type": "execute_result"
    }
   ],
   "source": [
    "# the algorithms above already support multilabel data. Adaboost doesn't so we have to use onevsrestclassifier\n",
    "from sklearn.multiclass import OneVsRestClassifier\n",
    "from sklearn.ensemble import AdaBoostClassifier\n",
    "ab = OneVsRestClassifier(AdaBoostClassifier())\n",
    "ab.fit(X_train, y_train)\n",
    "ab_pred = ab.predict(X_test)\n",
    "f1_score(y_test, ab_pred, average = 'micro')"
   ]
  },
  {
   "cell_type": "code",
   "execution_count": 32,
   "metadata": {
    "collapsed": false,
    "scrolled": true
   },
   "outputs": [
    {
     "data": {
      "text/plain": [
       "0.100877893056664"
      ]
     },
     "execution_count": 32,
     "metadata": {},
     "output_type": "execute_result"
    }
   ],
   "source": [
    "# sklearn neural network classifier\n",
    "from sklearn.neural_network import MLPClassifier\n",
    "nn = MLPClassifier(activation='relu', solver ='adam', random_state=42, \n",
    "                  hidden_layer_sizes=(175,), max_iter=200,)\n",
    "nn.fit(X_train, y_train)\n",
    "nn_pred = nn.predict(X_test)\n",
    "f1_score(y_test, nn_pred, average = 'micro')"
   ]
  },
  {
   "cell_type": "markdown",
   "metadata": {},
   "source": [
    "ToDo\n",
    "- non-stratified CV, check variance\n",
    "- label encoder, hashing trick\n",
    "- tune neural network, try tensorflow?\n",
    "- proper evaluation metric, predict_proba?\n",
    "- adaboost, gradientboosting, xgboost don't support multilabel"
   ]
  }
 ],
 "metadata": {
  "kernelspec": {
   "display_name": "Python 2",
   "language": "python",
   "name": "python2"
  },
  "language_info": {
   "codemirror_mode": {
    "name": "ipython",
    "version": 2
   },
   "file_extension": ".py",
   "mimetype": "text/x-python",
   "name": "python",
   "nbconvert_exporter": "python",
   "pygments_lexer": "ipython2",
   "version": "2.7.12"
  }
 },
 "nbformat": 4,
 "nbformat_minor": 0
}
