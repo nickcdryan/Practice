{
 "cells": [
  {
   "cell_type": "code",
   "execution_count": 194,
   "metadata": {
    "collapsed": false
   },
   "outputs": [],
   "source": [
    "import pandas as pd\n",
    "import numpy as np\n",
    "from sklearn.preprocessing import MultiLabelBinarizer\n",
    "from sklearn.model_selection import train_test_split\n",
    "from sklearn.multiclass import OneVsRestClassifier\n",
    "from sklearn.metrics import f1_score\n",
    "from sklearn.metrics import accuracy_score\n",
    "from sklearn.model_selection import KFold\n",
    "import time \n",
    "import seaborn as sns\n",
    "import matplotlib.pyplot as plt\n",
    "%matplotlib inline\n",
    "\n",
    "from sklearn.naive_bayes import GaussianNB\n",
    "from sklearn.naive_bayes import MultinomialNB\n",
    "from sklearn.svm import LinearSVC\n",
    "from sklearn.neighbors import KNeighborsClassifier\n",
    "from sklearn.tree import DecisionTreeClassifier\n",
    "from sklearn.ensemble import RandomForestClassifier\n",
    "from sklearn.neural_network import MLPClassifier"
   ]
  },
  {
   "cell_type": "markdown",
   "metadata": {},
   "source": [
    "In this dataset there is: 8835 record 2763 different input keyword 657 different output classes"
   ]
  },
  {
   "cell_type": "code",
   "execution_count": 2,
   "metadata": {
    "collapsed": false
   },
   "outputs": [
    {
     "data": {
      "text/html": [
       "<div>\n",
       "<table border=\"1\" class=\"dataframe\">\n",
       "  <thead>\n",
       "    <tr style=\"text-align: right;\">\n",
       "      <th></th>\n",
       "      <th>Keywords</th>\n",
       "      <th>Classification</th>\n",
       "    </tr>\n",
       "  </thead>\n",
       "  <tbody>\n",
       "    <tr>\n",
       "      <th>0</th>\n",
       "      <td>Classification systems,Health law,Health care,...</td>\n",
       "      <td>Life and medical sciences</td>\n",
       "    </tr>\n",
       "    <tr>\n",
       "      <th>1</th>\n",
       "      <td>Information retrieval systems,Web software,Alg...</td>\n",
       "      <td>World Wide Web</td>\n",
       "    </tr>\n",
       "    <tr>\n",
       "      <th>2</th>\n",
       "      <td>American culture,Social information processing...</td>\n",
       "      <td>Information systems applications;Information r...</td>\n",
       "    </tr>\n",
       "    <tr>\n",
       "      <th>3</th>\n",
       "      <td>Data management,Software,Types of databases,Da...</td>\n",
       "      <td>Data management systems;Theory and algorithms ...</td>\n",
       "    </tr>\n",
       "    <tr>\n",
       "      <th>4</th>\n",
       "      <td>Business terms,Temporal rates,Scientific metho...</td>\n",
       "      <td>Information systems applications</td>\n",
       "    </tr>\n",
       "  </tbody>\n",
       "</table>\n",
       "</div>"
      ],
      "text/plain": [
       "                                            Keywords  \\\n",
       "0  Classification systems,Health law,Health care,...   \n",
       "1  Information retrieval systems,Web software,Alg...   \n",
       "2  American culture,Social information processing...   \n",
       "3  Data management,Software,Types of databases,Da...   \n",
       "4  Business terms,Temporal rates,Scientific metho...   \n",
       "\n",
       "                                      Classification  \n",
       "0                          Life and medical sciences  \n",
       "1                                     World Wide Web  \n",
       "2  Information systems applications;Information r...  \n",
       "3  Data management systems;Theory and algorithms ...  \n",
       "4                   Information systems applications  "
      ]
     },
     "execution_count": 2,
     "metadata": {},
     "output_type": "execute_result"
    }
   ],
   "source": [
    "data = pd.read_csv('Complete_Dataset_2_FL-csv.csv', sep=\",\")\n",
    "data.head()"
   ]
  },
  {
   "cell_type": "code",
   "execution_count": 3,
   "metadata": {
    "collapsed": false
   },
   "outputs": [
    {
     "data": {
      "text/plain": [
       "7655"
      ]
     },
     "execution_count": 3,
     "metadata": {},
     "output_type": "execute_result"
    }
   ],
   "source": [
    "len(data)"
   ]
  },
  {
   "cell_type": "code",
   "execution_count": 4,
   "metadata": {
    "collapsed": false
   },
   "outputs": [
    {
     "data": {
      "text/plain": [
       "Keywords           True\n",
       "Classification    False\n",
       "dtype: bool"
      ]
     },
     "execution_count": 4,
     "metadata": {},
     "output_type": "execute_result"
    }
   ],
   "source": [
    "# null values?\n",
    "data.isnull().any()"
   ]
  },
  {
   "cell_type": "code",
   "execution_count": 5,
   "metadata": {
    "collapsed": false
   },
   "outputs": [
    {
     "data": {
      "text/plain": [
       "35"
      ]
     },
     "execution_count": 5,
     "metadata": {},
     "output_type": "execute_result"
    }
   ],
   "source": [
    "data.Keywords.isnull().sum()"
   ]
  },
  {
   "cell_type": "code",
   "execution_count": 6,
   "metadata": {
    "collapsed": false,
    "scrolled": true
   },
   "outputs": [
    {
     "name": "stdout",
     "output_type": "stream",
     "text": [
      "40\n",
      "82\n"
     ]
    }
   ],
   "source": [
    "# a null example:\n",
    "for i in range(100):\n",
    "    if type(data.Keywords[i]) == float:\n",
    "        print i"
   ]
  },
  {
   "cell_type": "code",
   "execution_count": 7,
   "metadata": {
    "collapsed": false
   },
   "outputs": [
    {
     "data": {
      "text/html": [
       "<div>\n",
       "<table border=\"1\" class=\"dataframe\">\n",
       "  <thead>\n",
       "    <tr style=\"text-align: right;\">\n",
       "      <th></th>\n",
       "      <th>Keywords</th>\n",
       "      <th>Classification</th>\n",
       "    </tr>\n",
       "  </thead>\n",
       "  <tbody>\n",
       "    <tr>\n",
       "      <th>39</th>\n",
       "      <td>Information retrieval systems,Web software,Alg...</td>\n",
       "      <td>Information retrieval</td>\n",
       "    </tr>\n",
       "    <tr>\n",
       "      <th>40</th>\n",
       "      <td>NaN</td>\n",
       "      <td>Information retrieval</td>\n",
       "    </tr>\n",
       "    <tr>\n",
       "      <th>41</th>\n",
       "      <td>Data management,Software,Databases,Measurement...</td>\n",
       "      <td>Data management systems;Theory and algorithms ...</td>\n",
       "    </tr>\n",
       "  </tbody>\n",
       "</table>\n",
       "</div>"
      ],
      "text/plain": [
       "                                             Keywords  \\\n",
       "39  Information retrieval systems,Web software,Alg...   \n",
       "40                                                NaN   \n",
       "41  Data management,Software,Databases,Measurement...   \n",
       "\n",
       "                                       Classification  \n",
       "39                              Information retrieval  \n",
       "40                              Information retrieval  \n",
       "41  Data management systems;Theory and algorithms ...  "
      ]
     },
     "execution_count": 7,
     "metadata": {},
     "output_type": "execute_result"
    }
   ],
   "source": [
    "data[39:42]"
   ]
  },
  {
   "cell_type": "code",
   "execution_count": 8,
   "metadata": {
    "collapsed": false
   },
   "outputs": [
    {
     "data": {
      "text/plain": [
       "7620"
      ]
     },
     "execution_count": 8,
     "metadata": {},
     "output_type": "execute_result"
    }
   ],
   "source": [
    "# drop null rows\n",
    "data = data.dropna()\n",
    "len(data)"
   ]
  },
  {
   "cell_type": "code",
   "execution_count": 82,
   "metadata": {
    "collapsed": false
   },
   "outputs": [
    {
     "data": {
      "text/plain": [
       "3411"
      ]
     },
     "execution_count": 82,
     "metadata": {},
     "output_type": "execute_result"
    }
   ],
   "source": [
    "# how many distinct combinations of labels?\n",
    "len(data.Classification.value_counts())"
   ]
  },
  {
   "cell_type": "code",
   "execution_count": 85,
   "metadata": {
    "collapsed": false
   },
   "outputs": [
    {
     "data": {
      "text/plain": [
       "2912"
      ]
     },
     "execution_count": 85,
     "metadata": {},
     "output_type": "execute_result"
    }
   ],
   "source": [
    "# how many of those combinations appear only once?\n",
    "sum(data.Classification.value_counts() == 1)"
   ]
  },
  {
   "cell_type": "code",
   "execution_count": 10,
   "metadata": {
    "collapsed": false
   },
   "outputs": [],
   "source": [
    "# split keywords and labels\n",
    "X = data.Keywords\n",
    "X = X.apply(lambda x: x.split(','))\n",
    "y = data.Classification\n",
    "y = y.apply(lambda x: x.split(';'))"
   ]
  },
  {
   "cell_type": "code",
   "execution_count": 11,
   "metadata": {
    "collapsed": false
   },
   "outputs": [
    {
     "data": {
      "text/plain": [
       "0    [Classification systems, Health law, Health ca...\n",
       "1    [Information retrieval systems, Web software, ...\n",
       "2    [American culture, Social information processi...\n",
       "3    [Data management, Software, Types of databases...\n",
       "4    [Business terms, Temporal rates, Scientific me...\n",
       "Name: Keywords, dtype: object"
      ]
     },
     "execution_count": 11,
     "metadata": {},
     "output_type": "execute_result"
    }
   ],
   "source": [
    "X.head()"
   ]
  },
  {
   "cell_type": "code",
   "execution_count": 12,
   "metadata": {
    "collapsed": true
   },
   "outputs": [],
   "source": [
    "# convert keywords and labels into matrices of binary values\n",
    "X_binarize = MultiLabelBinarizer().fit_transform(X)\n",
    "y_binarize = MultiLabelBinarizer().fit_transform(y)"
   ]
  },
  {
   "cell_type": "code",
   "execution_count": 87,
   "metadata": {
    "collapsed": false
   },
   "outputs": [
    {
     "data": {
      "text/plain": [
       "array([[1, 0, 0, ..., 0, 0, 0],\n",
       "       [1, 0, 0, ..., 0, 0, 0],\n",
       "       [1, 0, 0, ..., 0, 0, 0],\n",
       "       ..., \n",
       "       [1, 0, 0, ..., 0, 0, 0],\n",
       "       [1, 0, 0, ..., 0, 0, 0],\n",
       "       [1, 0, 0, ..., 0, 0, 0]])"
      ]
     },
     "execution_count": 87,
     "metadata": {},
     "output_type": "execute_result"
    }
   ],
   "source": [
    "X_binarize"
   ]
  },
  {
   "cell_type": "code",
   "execution_count": 13,
   "metadata": {
    "collapsed": false
   },
   "outputs": [
    {
     "name": "stdout",
     "output_type": "stream",
     "text": [
      "(7620, 2641)\n",
      "(7620, 541)\n"
     ]
    }
   ],
   "source": [
    "print X_binarize.shape\n",
    "print y_binarize.shape"
   ]
  },
  {
   "cell_type": "code",
   "execution_count": 230,
   "metadata": {
    "collapsed": false
   },
   "outputs": [],
   "source": [
    "dt = DecisionTreeClassifier()\n",
    "gnb = OneVsRestClassifier(GaussianNB())\n",
    "rf = RandomForestClassifier()\n",
    "svm = OneVsRestClassifier(LinearSVC())\n",
    "knn = KNeighborsClassifier()\n",
    "nn = MLPClassifier(activation='relu', solver ='adam', random_state=42, \n",
    "                  hidden_layer_sizes=(175,), max_iter=200,)"
   ]
  },
  {
   "cell_type": "code",
   "execution_count": 208,
   "metadata": {
    "collapsed": true
   },
   "outputs": [],
   "source": [
    "dt_scores = cross_val_score(dt, X_binarize, y_binarize, scoring='accuracy', cv=7)"
   ]
  },
  {
   "cell_type": "code",
   "execution_count": 209,
   "metadata": {
    "collapsed": true
   },
   "outputs": [],
   "source": [
    "rf_scores = cross_val_score(rf, X_binarize, y_binarize, scoring='accuracy', cv=7)"
   ]
  },
  {
   "cell_type": "code",
   "execution_count": 231,
   "metadata": {
    "collapsed": true
   },
   "outputs": [],
   "source": [
    "gnb_scores = cross_val_score(gnb, X_binarize, y_binarize, scoring='accuracy', cv=7)"
   ]
  },
  {
   "cell_type": "code",
   "execution_count": 214,
   "metadata": {
    "collapsed": false
   },
   "outputs": [
    {
     "name": "stderr",
     "output_type": "stream",
     "text": [
      "/Users/nickryan/anaconda/lib/python2.7/site-packages/sklearn/multiclass.py:76: UserWarning: Label not 40 is present in all training examples.\n",
      "  str(classes[c]))\n",
      "/Users/nickryan/anaconda/lib/python2.7/site-packages/sklearn/multiclass.py:76: UserWarning: Label not 90 is present in all training examples.\n",
      "  str(classes[c]))\n",
      "/Users/nickryan/anaconda/lib/python2.7/site-packages/sklearn/multiclass.py:76: UserWarning: Label not 140 is present in all training examples.\n",
      "  str(classes[c]))\n",
      "/Users/nickryan/anaconda/lib/python2.7/site-packages/sklearn/multiclass.py:76: UserWarning: Label not 167 is present in all training examples.\n",
      "  str(classes[c]))\n",
      "/Users/nickryan/anaconda/lib/python2.7/site-packages/sklearn/multiclass.py:76: UserWarning: Label not 168 is present in all training examples.\n",
      "  str(classes[c]))\n",
      "/Users/nickryan/anaconda/lib/python2.7/site-packages/sklearn/multiclass.py:76: UserWarning: Label not 189 is present in all training examples.\n",
      "  str(classes[c]))\n",
      "/Users/nickryan/anaconda/lib/python2.7/site-packages/sklearn/multiclass.py:76: UserWarning: Label not 192 is present in all training examples.\n",
      "  str(classes[c]))\n",
      "/Users/nickryan/anaconda/lib/python2.7/site-packages/sklearn/multiclass.py:76: UserWarning: Label not 205 is present in all training examples.\n",
      "  str(classes[c]))\n",
      "/Users/nickryan/anaconda/lib/python2.7/site-packages/sklearn/multiclass.py:76: UserWarning: Label not 217 is present in all training examples.\n",
      "  str(classes[c]))\n",
      "/Users/nickryan/anaconda/lib/python2.7/site-packages/sklearn/multiclass.py:76: UserWarning: Label not 247 is present in all training examples.\n",
      "  str(classes[c]))\n",
      "/Users/nickryan/anaconda/lib/python2.7/site-packages/sklearn/multiclass.py:76: UserWarning: Label not 308 is present in all training examples.\n",
      "  str(classes[c]))\n",
      "/Users/nickryan/anaconda/lib/python2.7/site-packages/sklearn/multiclass.py:76: UserWarning: Label not 311 is present in all training examples.\n",
      "  str(classes[c]))\n",
      "/Users/nickryan/anaconda/lib/python2.7/site-packages/sklearn/multiclass.py:76: UserWarning: Label not 331 is present in all training examples.\n",
      "  str(classes[c]))\n",
      "/Users/nickryan/anaconda/lib/python2.7/site-packages/sklearn/multiclass.py:76: UserWarning: Label not 401 is present in all training examples.\n",
      "  str(classes[c]))\n",
      "/Users/nickryan/anaconda/lib/python2.7/site-packages/sklearn/multiclass.py:76: UserWarning: Label not 404 is present in all training examples.\n",
      "  str(classes[c]))\n",
      "/Users/nickryan/anaconda/lib/python2.7/site-packages/sklearn/multiclass.py:76: UserWarning: Label not 416 is present in all training examples.\n",
      "  str(classes[c]))\n",
      "/Users/nickryan/anaconda/lib/python2.7/site-packages/sklearn/multiclass.py:76: UserWarning: Label not 430 is present in all training examples.\n",
      "  str(classes[c]))\n",
      "/Users/nickryan/anaconda/lib/python2.7/site-packages/sklearn/multiclass.py:76: UserWarning: Label not 432 is present in all training examples.\n",
      "  str(classes[c]))\n",
      "/Users/nickryan/anaconda/lib/python2.7/site-packages/sklearn/multiclass.py:76: UserWarning: Label not 437 is present in all training examples.\n",
      "  str(classes[c]))\n",
      "/Users/nickryan/anaconda/lib/python2.7/site-packages/sklearn/multiclass.py:76: UserWarning: Label not 535 is present in all training examples.\n",
      "  str(classes[c]))\n",
      "/Users/nickryan/anaconda/lib/python2.7/site-packages/sklearn/multiclass.py:76: UserWarning: Label not 11 is present in all training examples.\n",
      "  str(classes[c]))\n",
      "/Users/nickryan/anaconda/lib/python2.7/site-packages/sklearn/multiclass.py:76: UserWarning: Label not 14 is present in all training examples.\n",
      "  str(classes[c]))\n",
      "/Users/nickryan/anaconda/lib/python2.7/site-packages/sklearn/multiclass.py:76: UserWarning: Label not 97 is present in all training examples.\n",
      "  str(classes[c]))\n",
      "/Users/nickryan/anaconda/lib/python2.7/site-packages/sklearn/multiclass.py:76: UserWarning: Label not 186 is present in all training examples.\n",
      "  str(classes[c]))\n",
      "/Users/nickryan/anaconda/lib/python2.7/site-packages/sklearn/multiclass.py:76: UserWarning: Label not 235 is present in all training examples.\n",
      "  str(classes[c]))\n",
      "/Users/nickryan/anaconda/lib/python2.7/site-packages/sklearn/multiclass.py:76: UserWarning: Label not 261 is present in all training examples.\n",
      "  str(classes[c]))\n",
      "/Users/nickryan/anaconda/lib/python2.7/site-packages/sklearn/multiclass.py:76: UserWarning: Label not 337 is present in all training examples.\n",
      "  str(classes[c]))\n",
      "/Users/nickryan/anaconda/lib/python2.7/site-packages/sklearn/multiclass.py:76: UserWarning: Label not 360 is present in all training examples.\n",
      "  str(classes[c]))\n",
      "/Users/nickryan/anaconda/lib/python2.7/site-packages/sklearn/multiclass.py:76: UserWarning: Label not 378 is present in all training examples.\n",
      "  str(classes[c]))\n",
      "/Users/nickryan/anaconda/lib/python2.7/site-packages/sklearn/multiclass.py:76: UserWarning: Label not 415 is present in all training examples.\n",
      "  str(classes[c]))\n",
      "/Users/nickryan/anaconda/lib/python2.7/site-packages/sklearn/multiclass.py:76: UserWarning: Label not 453 is present in all training examples.\n",
      "  str(classes[c]))\n",
      "/Users/nickryan/anaconda/lib/python2.7/site-packages/sklearn/multiclass.py:76: UserWarning: Label not 487 is present in all training examples.\n",
      "  str(classes[c]))\n",
      "/Users/nickryan/anaconda/lib/python2.7/site-packages/sklearn/multiclass.py:76: UserWarning: Label not 516 is present in all training examples.\n",
      "  str(classes[c]))\n",
      "/Users/nickryan/anaconda/lib/python2.7/site-packages/sklearn/multiclass.py:76: UserWarning: Label not 55 is present in all training examples.\n",
      "  str(classes[c]))\n",
      "/Users/nickryan/anaconda/lib/python2.7/site-packages/sklearn/multiclass.py:76: UserWarning: Label not 81 is present in all training examples.\n",
      "  str(classes[c]))\n",
      "/Users/nickryan/anaconda/lib/python2.7/site-packages/sklearn/multiclass.py:76: UserWarning: Label not 122 is present in all training examples.\n",
      "  str(classes[c]))\n",
      "/Users/nickryan/anaconda/lib/python2.7/site-packages/sklearn/multiclass.py:76: UserWarning: Label not 131 is present in all training examples.\n",
      "  str(classes[c]))\n",
      "/Users/nickryan/anaconda/lib/python2.7/site-packages/sklearn/multiclass.py:76: UserWarning: Label not 134 is present in all training examples.\n",
      "  str(classes[c]))\n",
      "/Users/nickryan/anaconda/lib/python2.7/site-packages/sklearn/multiclass.py:76: UserWarning: Label not 144 is present in all training examples.\n",
      "  str(classes[c]))\n",
      "/Users/nickryan/anaconda/lib/python2.7/site-packages/sklearn/multiclass.py:76: UserWarning: Label not 153 is present in all training examples.\n",
      "  str(classes[c]))\n",
      "/Users/nickryan/anaconda/lib/python2.7/site-packages/sklearn/multiclass.py:76: UserWarning: Label not 191 is present in all training examples.\n",
      "  str(classes[c]))\n",
      "/Users/nickryan/anaconda/lib/python2.7/site-packages/sklearn/multiclass.py:76: UserWarning: Label not 321 is present in all training examples.\n",
      "  str(classes[c]))\n",
      "/Users/nickryan/anaconda/lib/python2.7/site-packages/sklearn/multiclass.py:76: UserWarning: Label not 347 is present in all training examples.\n",
      "  str(classes[c]))\n",
      "/Users/nickryan/anaconda/lib/python2.7/site-packages/sklearn/multiclass.py:76: UserWarning: Label not 385 is present in all training examples.\n",
      "  str(classes[c]))\n",
      "/Users/nickryan/anaconda/lib/python2.7/site-packages/sklearn/multiclass.py:76: UserWarning: Label not 391 is present in all training examples.\n",
      "  str(classes[c]))\n",
      "/Users/nickryan/anaconda/lib/python2.7/site-packages/sklearn/multiclass.py:76: UserWarning: Label not 419 is present in all training examples.\n",
      "  str(classes[c]))\n",
      "/Users/nickryan/anaconda/lib/python2.7/site-packages/sklearn/multiclass.py:76: UserWarning: Label not 433 is present in all training examples.\n",
      "  str(classes[c]))\n",
      "/Users/nickryan/anaconda/lib/python2.7/site-packages/sklearn/multiclass.py:76: UserWarning: Label not 461 is present in all training examples.\n",
      "  str(classes[c]))\n",
      "/Users/nickryan/anaconda/lib/python2.7/site-packages/sklearn/multiclass.py:76: UserWarning: Label not 470 is present in all training examples.\n",
      "  str(classes[c]))\n",
      "/Users/nickryan/anaconda/lib/python2.7/site-packages/sklearn/multiclass.py:76: UserWarning: Label not 474 is present in all training examples.\n",
      "  str(classes[c]))\n",
      "/Users/nickryan/anaconda/lib/python2.7/site-packages/sklearn/multiclass.py:76: UserWarning: Label not 481 is present in all training examples.\n",
      "  str(classes[c]))\n",
      "/Users/nickryan/anaconda/lib/python2.7/site-packages/sklearn/multiclass.py:76: UserWarning: Label not 495 is present in all training examples.\n",
      "  str(classes[c]))\n",
      "/Users/nickryan/anaconda/lib/python2.7/site-packages/sklearn/multiclass.py:76: UserWarning: Label not 511 is present in all training examples.\n",
      "  str(classes[c]))\n",
      "/Users/nickryan/anaconda/lib/python2.7/site-packages/sklearn/multiclass.py:76: UserWarning: Label not 4 is present in all training examples.\n",
      "  str(classes[c]))\n",
      "/Users/nickryan/anaconda/lib/python2.7/site-packages/sklearn/multiclass.py:76: UserWarning: Label not 10 is present in all training examples.\n",
      "  str(classes[c]))\n",
      "/Users/nickryan/anaconda/lib/python2.7/site-packages/sklearn/multiclass.py:76: UserWarning: Label not 29 is present in all training examples.\n",
      "  str(classes[c]))\n",
      "/Users/nickryan/anaconda/lib/python2.7/site-packages/sklearn/multiclass.py:76: UserWarning: Label not 35 is present in all training examples.\n",
      "  str(classes[c]))\n",
      "/Users/nickryan/anaconda/lib/python2.7/site-packages/sklearn/multiclass.py:76: UserWarning: Label not 37 is present in all training examples.\n",
      "  str(classes[c]))\n",
      "/Users/nickryan/anaconda/lib/python2.7/site-packages/sklearn/multiclass.py:76: UserWarning: Label not 45 is present in all training examples.\n",
      "  str(classes[c]))\n",
      "/Users/nickryan/anaconda/lib/python2.7/site-packages/sklearn/multiclass.py:76: UserWarning: Label not 87 is present in all training examples.\n",
      "  str(classes[c]))\n",
      "/Users/nickryan/anaconda/lib/python2.7/site-packages/sklearn/multiclass.py:76: UserWarning: Label not 128 is present in all training examples.\n",
      "  str(classes[c]))\n",
      "/Users/nickryan/anaconda/lib/python2.7/site-packages/sklearn/multiclass.py:76: UserWarning: Label not 158 is present in all training examples.\n",
      "  str(classes[c]))\n",
      "/Users/nickryan/anaconda/lib/python2.7/site-packages/sklearn/multiclass.py:76: UserWarning: Label not 178 is present in all training examples.\n",
      "  str(classes[c]))\n",
      "/Users/nickryan/anaconda/lib/python2.7/site-packages/sklearn/multiclass.py:76: UserWarning: Label not 291 is present in all training examples.\n",
      "  str(classes[c]))\n",
      "/Users/nickryan/anaconda/lib/python2.7/site-packages/sklearn/multiclass.py:76: UserWarning: Label not 303 is present in all training examples.\n",
      "  str(classes[c]))\n",
      "/Users/nickryan/anaconda/lib/python2.7/site-packages/sklearn/multiclass.py:76: UserWarning: Label not 403 is present in all training examples.\n",
      "  str(classes[c]))\n",
      "/Users/nickryan/anaconda/lib/python2.7/site-packages/sklearn/multiclass.py:76: UserWarning: Label not 116 is present in all training examples.\n",
      "  str(classes[c]))\n",
      "/Users/nickryan/anaconda/lib/python2.7/site-packages/sklearn/multiclass.py:76: UserWarning: Label not 357 is present in all training examples.\n",
      "  str(classes[c]))\n",
      "/Users/nickryan/anaconda/lib/python2.7/site-packages/sklearn/multiclass.py:76: UserWarning: Label not 386 is present in all training examples.\n",
      "  str(classes[c]))\n",
      "/Users/nickryan/anaconda/lib/python2.7/site-packages/sklearn/multiclass.py:76: UserWarning: Label not 410 is present in all training examples.\n",
      "  str(classes[c]))\n",
      "/Users/nickryan/anaconda/lib/python2.7/site-packages/sklearn/multiclass.py:76: UserWarning: Label not 442 is present in all training examples.\n",
      "  str(classes[c]))\n",
      "/Users/nickryan/anaconda/lib/python2.7/site-packages/sklearn/multiclass.py:76: UserWarning: Label not 496 is present in all training examples.\n",
      "  str(classes[c]))\n",
      "/Users/nickryan/anaconda/lib/python2.7/site-packages/sklearn/multiclass.py:76: UserWarning: Label not 528 is present in all training examples.\n",
      "  str(classes[c]))\n",
      "/Users/nickryan/anaconda/lib/python2.7/site-packages/sklearn/multiclass.py:76: UserWarning: Label not 9 is present in all training examples.\n",
      "  str(classes[c]))\n",
      "/Users/nickryan/anaconda/lib/python2.7/site-packages/sklearn/multiclass.py:76: UserWarning: Label not 16 is present in all training examples.\n",
      "  str(classes[c]))\n",
      "/Users/nickryan/anaconda/lib/python2.7/site-packages/sklearn/multiclass.py:76: UserWarning: Label not 88 is present in all training examples.\n",
      "  str(classes[c]))\n",
      "/Users/nickryan/anaconda/lib/python2.7/site-packages/sklearn/multiclass.py:76: UserWarning: Label not 171 is present in all training examples.\n",
      "  str(classes[c]))\n",
      "/Users/nickryan/anaconda/lib/python2.7/site-packages/sklearn/multiclass.py:76: UserWarning: Label not 185 is present in all training examples.\n",
      "  str(classes[c]))\n",
      "/Users/nickryan/anaconda/lib/python2.7/site-packages/sklearn/multiclass.py:76: UserWarning: Label not 204 is present in all training examples.\n",
      "  str(classes[c]))\n",
      "/Users/nickryan/anaconda/lib/python2.7/site-packages/sklearn/multiclass.py:76: UserWarning: Label not 244 is present in all training examples.\n",
      "  str(classes[c]))\n",
      "/Users/nickryan/anaconda/lib/python2.7/site-packages/sklearn/multiclass.py:76: UserWarning: Label not 281 is present in all training examples.\n",
      "  str(classes[c]))\n",
      "/Users/nickryan/anaconda/lib/python2.7/site-packages/sklearn/multiclass.py:76: UserWarning: Label not 341 is present in all training examples.\n",
      "  str(classes[c]))\n",
      "/Users/nickryan/anaconda/lib/python2.7/site-packages/sklearn/multiclass.py:76: UserWarning: Label not 414 is present in all training examples.\n",
      "  str(classes[c]))\n",
      "/Users/nickryan/anaconda/lib/python2.7/site-packages/sklearn/multiclass.py:76: UserWarning: Label not 434 is present in all training examples.\n",
      "  str(classes[c]))\n",
      "/Users/nickryan/anaconda/lib/python2.7/site-packages/sklearn/multiclass.py:76: UserWarning: Label not 512 is present in all training examples.\n",
      "  str(classes[c]))\n",
      "/Users/nickryan/anaconda/lib/python2.7/site-packages/sklearn/multiclass.py:76: UserWarning: Label not 517 is present in all training examples.\n",
      "  str(classes[c]))\n",
      "/Users/nickryan/anaconda/lib/python2.7/site-packages/sklearn/multiclass.py:76: UserWarning: Label not 531 is present in all training examples.\n",
      "  str(classes[c]))\n",
      "/Users/nickryan/anaconda/lib/python2.7/site-packages/sklearn/multiclass.py:76: UserWarning: Label not 8 is present in all training examples.\n",
      "  str(classes[c]))\n",
      "/Users/nickryan/anaconda/lib/python2.7/site-packages/sklearn/multiclass.py:76: UserWarning: Label not 20 is present in all training examples.\n",
      "  str(classes[c]))\n",
      "/Users/nickryan/anaconda/lib/python2.7/site-packages/sklearn/multiclass.py:76: UserWarning: Label not 24 is present in all training examples.\n",
      "  str(classes[c]))\n",
      "/Users/nickryan/anaconda/lib/python2.7/site-packages/sklearn/multiclass.py:76: UserWarning: Label not 30 is present in all training examples.\n",
      "  str(classes[c]))\n",
      "/Users/nickryan/anaconda/lib/python2.7/site-packages/sklearn/multiclass.py:76: UserWarning: Label not 117 is present in all training examples.\n",
      "  str(classes[c]))\n",
      "/Users/nickryan/anaconda/lib/python2.7/site-packages/sklearn/multiclass.py:76: UserWarning: Label not 156 is present in all training examples.\n",
      "  str(classes[c]))\n",
      "/Users/nickryan/anaconda/lib/python2.7/site-packages/sklearn/multiclass.py:76: UserWarning: Label not 159 is present in all training examples.\n",
      "  str(classes[c]))\n",
      "/Users/nickryan/anaconda/lib/python2.7/site-packages/sklearn/multiclass.py:76: UserWarning: Label not 160 is present in all training examples.\n",
      "  str(classes[c]))\n",
      "/Users/nickryan/anaconda/lib/python2.7/site-packages/sklearn/multiclass.py:76: UserWarning: Label not 172 is present in all training examples.\n",
      "  str(classes[c]))\n",
      "/Users/nickryan/anaconda/lib/python2.7/site-packages/sklearn/multiclass.py:76: UserWarning: Label not 179 is present in all training examples.\n",
      "  str(classes[c]))\n",
      "/Users/nickryan/anaconda/lib/python2.7/site-packages/sklearn/multiclass.py:76: UserWarning: Label not 212 is present in all training examples.\n",
      "  str(classes[c]))\n",
      "/Users/nickryan/anaconda/lib/python2.7/site-packages/sklearn/multiclass.py:76: UserWarning: Label not 222 is present in all training examples.\n",
      "  str(classes[c]))\n",
      "/Users/nickryan/anaconda/lib/python2.7/site-packages/sklearn/multiclass.py:76: UserWarning: Label not 229 is present in all training examples.\n",
      "  str(classes[c]))\n",
      "/Users/nickryan/anaconda/lib/python2.7/site-packages/sklearn/multiclass.py:76: UserWarning: Label not 230 is present in all training examples.\n",
      "  str(classes[c]))\n",
      "/Users/nickryan/anaconda/lib/python2.7/site-packages/sklearn/multiclass.py:76: UserWarning: Label not 233 is present in all training examples.\n",
      "  str(classes[c]))\n",
      "/Users/nickryan/anaconda/lib/python2.7/site-packages/sklearn/multiclass.py:76: UserWarning: Label not 276 is present in all training examples.\n",
      "  str(classes[c]))\n",
      "/Users/nickryan/anaconda/lib/python2.7/site-packages/sklearn/multiclass.py:76: UserWarning: Label not 289 is present in all training examples.\n",
      "  str(classes[c]))\n",
      "/Users/nickryan/anaconda/lib/python2.7/site-packages/sklearn/multiclass.py:76: UserWarning: Label not 294 is present in all training examples.\n",
      "  str(classes[c]))\n",
      "/Users/nickryan/anaconda/lib/python2.7/site-packages/sklearn/multiclass.py:76: UserWarning: Label not 306 is present in all training examples.\n",
      "  str(classes[c]))\n",
      "/Users/nickryan/anaconda/lib/python2.7/site-packages/sklearn/multiclass.py:76: UserWarning: Label not 370 is present in all training examples.\n",
      "  str(classes[c]))\n",
      "/Users/nickryan/anaconda/lib/python2.7/site-packages/sklearn/multiclass.py:76: UserWarning: Label not 402 is present in all training examples.\n",
      "  str(classes[c]))\n",
      "/Users/nickryan/anaconda/lib/python2.7/site-packages/sklearn/multiclass.py:76: UserWarning: Label not 411 is present in all training examples.\n",
      "  str(classes[c]))\n",
      "/Users/nickryan/anaconda/lib/python2.7/site-packages/sklearn/multiclass.py:76: UserWarning: Label not 439 is present in all training examples.\n",
      "  str(classes[c]))\n",
      "/Users/nickryan/anaconda/lib/python2.7/site-packages/sklearn/multiclass.py:76: UserWarning: Label not 449 is present in all training examples.\n",
      "  str(classes[c]))\n",
      "/Users/nickryan/anaconda/lib/python2.7/site-packages/sklearn/multiclass.py:76: UserWarning: Label not 459 is present in all training examples.\n",
      "  str(classes[c]))\n",
      "/Users/nickryan/anaconda/lib/python2.7/site-packages/sklearn/multiclass.py:76: UserWarning: Label not 460 is present in all training examples.\n",
      "  str(classes[c]))\n",
      "/Users/nickryan/anaconda/lib/python2.7/site-packages/sklearn/multiclass.py:76: UserWarning: Label not 488 is present in all training examples.\n",
      "  str(classes[c]))\n",
      "/Users/nickryan/anaconda/lib/python2.7/site-packages/sklearn/multiclass.py:76: UserWarning: Label not 490 is present in all training examples.\n",
      "  str(classes[c]))\n",
      "/Users/nickryan/anaconda/lib/python2.7/site-packages/sklearn/multiclass.py:76: UserWarning: Label not 506 is present in all training examples.\n",
      "  str(classes[c]))\n",
      "/Users/nickryan/anaconda/lib/python2.7/site-packages/sklearn/multiclass.py:76: UserWarning: Label not 529 is present in all training examples.\n",
      "  str(classes[c]))\n"
     ]
    }
   ],
   "source": [
    "svm_scores = cross_val_score(svm, X_binarize, y_binarize, scoring='accuracy', cv=7)"
   ]
  },
  {
   "cell_type": "code",
   "execution_count": 211,
   "metadata": {
    "collapsed": true
   },
   "outputs": [],
   "source": [
    "knn_scores = cross_val_score(knn, X_binarize, y_binarize, scoring='accuracy', cv=7)"
   ]
  },
  {
   "cell_type": "code",
   "execution_count": 212,
   "metadata": {
    "collapsed": true
   },
   "outputs": [],
   "source": [
    "nn_scores = cross_val_score(nn, X_binarize, y_binarize, scoring='accuracy', cv=7)"
   ]
  },
  {
   "cell_type": "code",
   "execution_count": 232,
   "metadata": {
    "collapsed": false
   },
   "outputs": [],
   "source": [
    "scores = {'tree': dt_scores, 'forest': rf_scores, 'naive bayes' : gnb_scores, 'svm': svm_scores, 'knn': knn_scores, 'nn': nn_scores}\n",
    "scores = pd.DataFrame(scores)"
   ]
  },
  {
   "cell_type": "code",
   "execution_count": 233,
   "metadata": {
    "collapsed": false
   },
   "outputs": [
    {
     "data": {
      "text/plain": [
       "<matplotlib.axes._subplots.AxesSubplot at 0x12d6b2d50>"
      ]
     },
     "execution_count": 233,
     "metadata": {},
     "output_type": "execute_result"
    },
    {
     "data": {
      "image/png": "[encoded data removed]",
      "text/plain": [
       "<matplotlib.figure.Figure at 0x12bfe1b50>"
      ]
     },
     "metadata": {},
     "output_type": "display_data"
    }
   ],
   "source": [
    "plt.figure(figsize=(10,8))\n",
    "sns.boxplot(data=scores)"
   ]
  },
  {
   "cell_type": "code",
   "execution_count": 217,
   "metadata": {
    "collapsed": false
   },
   "outputs": [
    {
     "data": {
      "text/plain": [
       "{'forest': array([ 0.01928375,  0.01285583,  0.01101928,  0.02479339,  0.02389706,\n",
       "         0.01746324,  0.00551471]),\n",
       " 'knn': array([ 0.02754821,  0.02846648,  0.01469238,  0.03213958,  0.02757353,\n",
       "         0.02297794,  0.00459559]),\n",
       " 'nn': array([ 0.01836547,  0.02112029,  0.01652893,  0.04407713,  0.03125   ,\n",
       "         0.01654412,  0.00551471]),\n",
       " 'svm': array([ 0.01193756,  0.00826446,  0.01010101,  0.02571166,  0.02849265,\n",
       "         0.01378676,  0.00091912]),\n",
       " 'tree': array([ 0.03856749,  0.03305785,  0.01928375,  0.05142332,  0.046875  ,\n",
       "         0.02849265,  0.00551471])}"
      ]
     },
     "execution_count": 217,
     "metadata": {},
     "output_type": "execute_result"
    }
   ],
   "source": [
    "scores"
   ]
  }
 ],
 "metadata": {
  "kernelspec": {
   "display_name": "Python 2",
   "language": "python",
   "name": "python2"
  },
  "language_info": {
   "codemirror_mode": {
    "name": "ipython",
    "version": 2
   },
   "file_extension": ".py",
   "mimetype": "text/x-python",
   "name": "python",
   "nbconvert_exporter": "python",
   "pygments_lexer": "ipython2",
   "version": "2.7.12"
  }
 },
 "nbformat": 4,
 "nbformat_minor": 0
}
